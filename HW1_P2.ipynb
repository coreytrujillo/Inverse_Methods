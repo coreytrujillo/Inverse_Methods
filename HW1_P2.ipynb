{
 "cells": [
  {
   "cell_type": "markdown",
   "metadata": {},
   "source": [
    "# Inverse Methods Homework 1: Problem 2\n",
    "## Aster B.8\n",
    "\n",
    "### Problem Statement\n",
    "\n",
    "*Consider the following data, which we will assume are drawn from a normal distribution.*\n",
    "\n",
    "[-0.4326,  -1.6656,  0.1253,  0.2877,  -1.1465,  1.1909,  1.1892,  -0.0376,  0.3273,  0.1746]\n",
    "\n",
    "### Find:\n",
    "a) The sample mean\n",
    "\n",
    "b) The standard Deviation\n",
    "\n",
    "c) 95% Confidence interval for the mean\n",
    "\n",
    "d) Test the hypothesis $H_0: \\mu = 0$ at the 95% confidence level. What do you conclude?\n",
    "\n",
    "e) The correpsonding p-value to part 4"
   ]
  },
  {
   "cell_type": "code",
   "execution_count": 1,
   "metadata": {},
   "outputs": [
    {
     "name": "stdout",
     "output_type": "stream",
     "text": [
      "There are 10 data points and 9 degrees of freedom.\n",
      "Sample Mean =  0.0012700000000000406\n",
      "Sample Standard Deviation =  0.9034346364476699\n",
      "Standard Deviation =  0.8570733504782423\n",
      "t025 =  -2.262157162740992 \n",
      "t975 =  2.2621571627409915\n",
      "95% Confidence Interval:  [-0.6450082062595921, 0.647548206259592]\n",
      "tobs =  0.00444536047921005 \n",
      "p_value =  0.004445492592417535\n"
     ]
    }
   ],
   "source": [
    "# Import Necessary Packages\n",
    "import numpy as np\n",
    "import scipy.stats as st\n",
    "\n",
    "# Format Data\n",
    "data = np.array([-0.4326, -1.6656, 0.1253, 0.2877, -1.1465, 1.1909, 1.1892, -0.0376, 0.3273, 0.1746])\n",
    "\n",
    "# Calculate data features\n",
    "n = len(data) # Number of Elements\n",
    "dof = n-1  # Degrees of freeeeedom\n",
    "print('There are', n, 'data points and', dof, 'degrees of freedom.')\n",
    "\n",
    "# Sample Mean\n",
    "m = sum(data)/n\n",
    "print('Sample Mean = ', m)\n",
    "\n",
    "# Sample Standard Deviation\n",
    "su = (data - m)**2\n",
    "s = np.sqrt(su.sum()/(n-1))\n",
    "print('Sample Standard Deviation = ', s)\n",
    "\n",
    "# Standard Deviation\n",
    "std = np.std(data)\n",
    "print('Standard Deviation = ', std)\n",
    "\n",
    "# t-values\n",
    "t025 = st.t.ppf(0.025, dof)\n",
    "t975 = st.t.ppf(0.975, dof)\n",
    "print('t025 = ', t025, '\\nt975 = ', t975)\n",
    "\n",
    "# Confidence Interval\n",
    "lo = m + t025*s/np.sqrt(n)\n",
    "hi = m + t975*s/np.sqrt(n)\n",
    "print('95% Confidence Interval: ', [lo, hi])\n",
    "\n",
    "# Observed t-value\n",
    "tobs = (0 - m)*np.sqrt(n)/s\n",
    "print('tobs = ', np.abs(tobs), '')\n",
    "\n",
    "# P value\n",
    "alpha = 0.498275\n",
    "p_value = st.t.ppf(1-alpha, dof)\n",
    "print('p_value = ', p_value)"
   ]
  },
  {
   "cell_type": "markdown",
   "metadata": {},
   "source": [
    "### Explanation\n",
    "\n",
    "d) Based on the fact that the absolute value of the observed t value is much less than $ t_{n-1,0.975} $, we cannot reject the hypothesis that the expected value is zero at the 95% confidence level.\n",
    "\n",
    "e) The p-value was calculated by guessing the $\\alpha$ value and checking "
   ]
  },
  {
   "cell_type": "code",
   "execution_count": null,
   "metadata": {},
   "outputs": [],
   "source": []
  }
 ],
 "metadata": {
  "kernelspec": {
   "display_name": "Python 3",
   "language": "python",
   "name": "python3"
  },
  "language_info": {
   "codemirror_mode": {
    "name": "ipython",
    "version": 3
   },
   "file_extension": ".py",
   "mimetype": "text/x-python",
   "name": "python",
   "nbconvert_exporter": "python",
   "pygments_lexer": "ipython3",
   "version": "3.6.6"
  }
 },
 "nbformat": 4,
 "nbformat_minor": 2
}
