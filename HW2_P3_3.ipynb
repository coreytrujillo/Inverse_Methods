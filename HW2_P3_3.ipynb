{
 "cells": [
  {
   "cell_type": "code",
   "execution_count": 37,
   "metadata": {
    "scrolled": false
   },
   "outputs": [
    {
     "name": "stdout",
     "output_type": "stream",
     "text": [
      "[ 1.   5.  -0.5]\n"
     ]
    },
    {
     "name": "stderr",
     "output_type": "stream",
     "text": [
      "/cm/shared/apps/python/3.6/lib/python3.6/site-packages/ipykernel_launcher.py:10: FutureWarning: `rcond` parameter will change to the default of machine precision times ``max(M, N)`` where M and N are the input matrix dimensions.\n",
      "To use the future default and silence this warning we advise to pass `rcond=None`, to keep using the old, explicitly pass `rcond=-1`.\n",
      "  # Remove the CWD from sys.path while we load stuff.\n"
     ]
    },
    {
     "data": {
      "image/png": "[encoded data removed]",
      "text/plain": [
       "<matplotlib.figure.Figure at 0x2aaacac814e0>"
      ]
     },
     "metadata": {},
     "output_type": "display_data"
    }
   ],
   "source": [
    "import numpy as np\n",
    "import matplotlib.pyplot as plt\n",
    "\n",
    "t = np.arange(0,11)\n",
    "y = t**0 + 5*t -0.5*(t**2)\n",
    "deg = 3\n",
    "G = np.ones((len(t),deg))\n",
    "for i in range(1,deg):\n",
    "    G[:,i] = t**i\n",
    "m = np.linalg.lstsq(G,y)[0]\n",
    "print(m)\n",
    "trend = np.polyval(np.flipud(m),t)\n",
    "\n",
    "plt.plot(t,y,'o')\n",
    "plt.plot(t,trend)\n",
    "plt.show()"
   ]
  },
  {
   "cell_type": "code",
   "execution_count": 59,
   "metadata": {},
   "outputs": [
    {
     "name": "stdout",
     "output_type": "stream",
     "text": [
      "[[1. 0. 0.]\n",
      " [1. 1. 1.]\n",
      " [1. 2. 4.]]\n",
      "[[1. 1. 1. 1. 1.]\n",
      " [1. 1. 1. 1. 1.]\n",
      " [1. 1. 1. 1. 1.]\n",
      " [1. 1. 1. 1. 1.]\n",
      " [1. 1. 1. 1. 1.]]\n",
      "(array([[-0.05648103,  0.79147375,  0.60858787],\n",
      "       [-0.32546907,  0.5616666 , -0.76065795],\n",
      "       [-0.94386428, -0.24103927,  0.22587672]]), array([4.84495852, 1.18536984, 0.34824594]), array([[-0.27364824, -0.45680425, -0.84643164],\n",
      "       [ 0.93818912,  0.06714197, -0.33954843],\n",
      "       [ 0.21193825, -0.88702978,  0.41019549]]))\n"
     ]
    }
   ],
   "source": [
    "############### Part a ######################\n",
    "import scipy.linalg as sc\n",
    "\n",
    "ta = np.arange(0,3)\n",
    "ya = ta**0 + 5*ta **1 -0.5*(ta**2)\n",
    "Ga = np.ones((len(ta),deg))\n",
    "for i in range(1,deg):\n",
    "    Ga[:,i] = ta**i\n",
    "print(Ga)\n",
    "\n",
    "print(GG)\n",
    "Q = sc.orth(Ga)\n",
    "rk = np.linalg.matrix_rank(Ga)\n",
    "S = np.diag(np.linalg.svd(Ga)[1])\n",
    "N = np.linalg.svd(Ga)\n",
    "print(N)"
   ]
  },
  {
   "cell_type": "code",
   "execution_count": 60,
   "metadata": {},
   "outputs": [
    {
     "name": "stdout",
     "output_type": "stream",
     "text": [
      "[[1. 0. 0.]\n",
      " [1. 1. 1.]\n",
      " [1. 2. 4.]]\n",
      "(array([[-0.05648103,  0.79147375,  0.60858787],\n",
      "       [-0.32546907,  0.5616666 , -0.76065795],\n",
      "       [-0.94386428, -0.24103927,  0.22587672]]), array([4.84495852, 1.18536984, 0.34824594]), array([[-0.27364824, -0.45680425, -0.84643164],\n",
      "       [ 0.93818912,  0.06714197, -0.33954843],\n",
      "       [ 0.21193825, -0.88702978,  0.41019549]]))\n"
     ]
    }
   ],
   "source": [
    "############### Part c ##############\n",
    "tb = np.arange(0,3)\n",
    "yb = tb**0 + 5*tb **1 -0.5*(tb**2)\n",
    "Gb = np.ones((len(tb),deg))\n",
    "for i in range(1,deg):\n",
    "    Gb[:,i] = tb**i\n",
    "print(Gb)\n",
    "\n",
    "Q = sc.orth(Gb)\n",
    "rk = np.linalg.matrix_rank(Gb)\n",
    "S = np.diag(np.linalg.svd(Gb)[1])\n",
    "N = np.linalg.svd(Gb)\n",
    "print(N)"
   ]
  }
 ],
 "metadata": {
  "kernelspec": {
   "display_name": "Python 3",
   "language": "python",
   "name": "python3"
  },
  "language_info": {
   "codemirror_mode": {
    "name": "ipython",
    "version": 3
   },
   "file_extension": ".py",
   "mimetype": "text/x-python",
   "name": "python",
   "nbconvert_exporter": "python",
   "pygments_lexer": "ipython3",
   "version": "3.6.6"
  }
 },
 "nbformat": 4,
 "nbformat_minor": 2
}
