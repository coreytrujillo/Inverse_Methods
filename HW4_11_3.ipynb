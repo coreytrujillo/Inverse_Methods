{
 "cells": [
  {
   "cell_type": "markdown",
   "metadata": {},
   "source": [
    "# Inverse Methods\n",
    "## Homework 4 Problem 2: Aster 11.4\n",
    "### Problem Statement\n",
    "Consider the following coin tossing experiment. We repreatedly toss a coin and each time record whether it comes up heads (0) or tails (1). The bias $b$ of the coin is the probability that it comes up heads. We have reason to believe that this is not a fair coin, so we will not assume that b = 1/2. Instead, we will begin with a uniform prior distribution $p(b) = 1$, for $0 \\leq b \\leq 1$."
   ]
  },
  {
   "cell_type": "markdown",
   "metadata": {},
   "source": [
    "### Part (a)\n",
    "a) What is $f(d|b)$? Note that the only possible data are 0 and 1 so this distribution will involve delta functions at $d=0$ and $d=1$.\n"
   ]
  },
  {
   "cell_type": "markdown",
   "metadata": {},
   "source": [
    "### Solution\n",
    "\n",
    "$$ f(d|b) = b \\delta(d) + (1-b) \\delta (d-1)$$"
   ]
  },
  {
   "cell_type": "markdown",
   "metadata": {},
   "source": [
    "### Explanation\n",
    "\n",
    "Since $b$ is the bias toward heads we weight a result of heads ($d = 0$) by $b$ and a result of tails ($d=1$) is weighted by $1-b$."
   ]
  },
  {
   "cell_type": "markdown",
   "metadata": {},
   "source": [
    "### Part (b)\n",
    "Suppose that on our first flip, the coin comes comes up heads. Compute the posterior distribution $q(b|d_1 = 0)$."
   ]
  },
  {
   "cell_type": "markdown",
   "metadata": {},
   "source": [
    "### Solution\n",
    "\n",
    "$$ q(b|d) = \\frac{f(d|b) p(b)}{c} $$\n",
    "\n",
    "\\begin{eqnarray}\n",
    "c &=& \\int_0^1 f(d|b) p(b) db \\\\\n",
    "&=& \\int_0^1 b \\delta(d) + (1-b) \\delta (d-1) db \\\\\n",
    "&=& \\frac{b^2 \\delta(d)}{2} + (b - \\frac{b^2}{2}) \\delta(d-1) \\Big|^1_0 \\\\\n",
    "&=& \\frac{\\delta (d)}{2} + \\frac{\\delta(d-1)}{2}\\\\\n",
    "c &=& \\frac{1}{2}(\\delta(d) + \\delta(d-1))\n",
    "\\end{eqnarray}\n",
    "\n",
    "$$c(d=0) = \\frac{1}{2}$$\n",
    "\n",
    "$$f(d=0|b) = b$$\n",
    "\n",
    "\\begin{eqnarray}\n",
    "q(b|d=0) &=& \\frac{b*1}{1/2}\n",
    "\\end{eqnarray}\n",
    "\n",
    "$$q(b|d=0) = 2b$$"
   ]
  },
  {
   "cell_type": "markdown",
   "metadata": {},
   "source": [
    "### Explanation\n",
    "\n",
    "Soliving for $c$ and $f(d=0|b)$, and using the knowledge that $p(b) = 1$, this is a plug and chug problem."
   ]
  },
  {
   "cell_type": "markdown",
   "metadata": {},
   "source": [
    "### Part (c)\n",
    " The second, third, fourth and fifth flips are 1, 1, 1 and 1. Find the posterior distribution $q(b|d_1=0, d_2=1, d_3=1, d_4=1, d_5=1)$. Plot the posterior distribution."
   ]
  },
  {
   "cell_type": "markdown",
   "metadata": {},
   "source": [
    "## Solution\n",
    "\n",
    "$$ f(d=1|b) = 1-b $$\n",
    "\n",
    "$$ f(d_{2-5} = 1 | b) = \\prod_{i=2}^5 f(d_i|b) = (1-b)^4 $$\n",
    "\n",
    "$$ c = \\int f(d|b) p(b) db  $$\n",
    "\n",
    "$$ = \\int_0^1(1-b)^4 2b db $$\n",
    "\n",
    "According to Wolfram Alpha:\n",
    "$$c = \\frac{1}{15}$$\n",
    "\n",
    "We'll also take\n",
    "$$ p(b) =  f(d=0|b) $$\n",
    "\n",
    "Plugging in:\n",
    "\\begin{eqnarray}\n",
    "q(b|d_{1-5}) &=&  \\frac{f(d|b) p(b)}{c}\\\\\n",
    "&=& \\frac{(1-b)^4 (2b)}{1/15}\n",
    "\\end{eqnarray}\n",
    "\n",
    "$$q(b|d_{1-5}) = 30b(1-b)^4$$"
   ]
  },
  {
   "cell_type": "code",
   "execution_count": 4,
   "metadata": {},
   "outputs": [
    {
     "data": {
      "image/png": "[encoded data removed]",
      "text/plain": [
       "<Figure size 432x288 with 1 Axes>"
      ]
     },
     "metadata": {},
     "output_type": "display_data"
    }
   ],
   "source": [
    "import numpy as np\n",
    "import matplotlib.pyplot as plt\n",
    "b = np.linspace(0,1,100)\n",
    "q = 30*b*(1-b)**4\n",
    "plt.plot(b,q)\n",
    "plt.xlabel('b')\n",
    "plt.ylabel('q')\n",
    "plt.title('Posterior Distribution');"
   ]
  },
  {
   "cell_type": "markdown",
   "metadata": {},
   "source": [
    "### Explanation\n",
    "\n",
    "Taking $f(d=0|b) $ as our prior distribution, our joint distribution $f(d|b) = f(d_{2-5} = 1 | b)$. The normalization constant, $c$ was solved with Wolfram Alpha and calculating q(b|d_{1-5} is plug and chug from there. "
   ]
  },
  {
   "cell_type": "markdown",
   "metadata": {},
   "source": [
    "### Part (d)\n",
    "What is your MAP estimate of the bias?"
   ]
  },
  {
   "cell_type": "markdown",
   "metadata": {},
   "source": [
    "### Solution\n",
    "\\begin{eqnarray}\n",
    "\\frac{dq}{db} &=& -(30)b(4)(1-b)^3 + 30(1-b)^4 = 0\\\\\n",
    "0 &=& 30(1-b)^3 (1-b-4b)\\\\\n",
    "0 &=& (1-b)^3(1-5b)\\\\\n",
    "\\end{eqnarray}\n",
    "\n",
    "Solving:\n",
    "$$b = 1/5 \\  or \\  1$$\n",
    "\n",
    "Based on the plot\n",
    "$$b = 1/5$$"
   ]
  },
  {
   "cell_type": "markdown",
   "metadata": {},
   "source": [
    "###  Explanation\n",
    "\n",
    "Since we want to find the Maximum a Posteriori model, we need the maximum of the plot in partc(c). We take the derivative of $q(d_{1-5}|b)$ and set it to zero to find where the tangent has zero slope and based on the plot, we can choose the maximum: $b=1/5$."
   ]
  },
  {
   "cell_type": "markdown",
   "metadata": {},
   "source": [
    "### Part (e) Problem Statement\n",
    "Now, suppose that you initially felt that the coin was at least close to fair with\n",
    "\n",
    "$$p(b) \\propto e^{-10(b-0.5)^2} $$\n",
    "\n",
    "where $0 \\leq b \\leq 1$. Repeat the analysis of the five coin flips described above."
   ]
  },
  {
   "cell_type": "code",
   "execution_count": null,
   "metadata": {},
   "outputs": [],
   "source": []
  },
  {
   "cell_type": "markdown",
   "metadata": {},
   "source": [
    "### Part (e) Explanation"
   ]
  },
  {
   "cell_type": "code",
   "execution_count": null,
   "metadata": {},
   "outputs": [],
   "source": []
  }
 ],
 "metadata": {
  "kernelspec": {
   "display_name": "Python 3",
   "language": "python",
   "name": "python3"
  },
  "language_info": {
   "codemirror_mode": {
    "name": "ipython",
    "version": 3
   },
   "file_extension": ".py",
   "mimetype": "text/x-python",
   "name": "python",
   "nbconvert_exporter": "python",
   "pygments_lexer": "ipython3",
   "version": "3.6.6"
  }
 },
 "nbformat": 4,
 "nbformat_minor": 2
}
