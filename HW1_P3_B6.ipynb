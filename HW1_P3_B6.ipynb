{
 "cells": [
  {
   "cell_type": "markdown",
   "metadata": {},
   "source": [
    "#  Inverse Methods Homework 1: Problem 3\n",
    "## Aster B.6\n",
    "\n",
    "### Problem Statement\n",
    "\n",
    "*Suppose $\\textbf{x} = (X_1, X_2)^T $ is a vector composed of two random variables with a multivariate normal distribution with expected value $\\mu$ and covariance matrix **C** and that **A** is a 2x2 matrix. *\n",
    "\n",
    "### Deliverables:\n",
    "Using properties of expected value and covariance to show that **y=Ax** has an expected value **A**$\\mu$ and covariance **ACA**$^\\textbf{T}$"
   ]
  },
  {
   "cell_type": "code",
   "execution_count": null,
   "metadata": {},
   "outputs": [],
   "source": [
    "\n",
    "\n"
   ]
  },
  {
   "cell_type": "code",
   "execution_count": null,
   "metadata": {},
   "outputs": [],
   "source": []
  }
 ],
 "metadata": {
  "kernelspec": {
   "display_name": "Python 3",
   "language": "python",
   "name": "python3"
  },
  "language_info": {
   "codemirror_mode": {
    "name": "ipython",
    "version": 3
   },
   "file_extension": ".py",
   "mimetype": "text/x-python",
   "name": "python",
   "nbconvert_exporter": "python",
   "pygments_lexer": "ipython3",
   "version": "3.6.6"
  }
 },
 "nbformat": 4,
 "nbformat_minor": 2
}
